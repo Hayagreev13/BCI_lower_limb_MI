{
 "cells": [
  {
   "cell_type": "markdown",
   "id": "b411a555",
   "metadata": {},
   "source": [
    "## Program to simulate Unicorn EEG Headset's stream"
   ]
  },
  {
   "cell_type": "markdown",
   "id": "2190e82a",
   "metadata": {},
   "source": [
    "## Creating Virtual Stream"
   ]
  },
  {
   "cell_type": "code",
   "execution_count": 1,
   "id": "e55aeb12",
   "metadata": {},
   "outputs": [],
   "source": [
    "from pylsl import StreamInfo, StreamOutlet\n",
    "import numpy as np\n",
    "\n",
    "class SignalsOutlet:\n",
    "    def __init__(self, #signals,\n",
    "                 fs, name='NFBLab_data1'):\n",
    "        self.info = StreamInfo(name=name, type='', channel_count= 17, source_id='nfblab42',\n",
    "                               nominal_srate=fs)\n",
    "        self.info.desc().append_child_value(\"manufacturer\", \"BioSemi\")\n",
    "        #channels = self.info.desc().append_child(\"channels\")\n",
    "        #for c in signals:\n",
    "        #    channels.append_child(\"channel\").append_child_value(\"name\", c)\n",
    "        self.outlet = StreamOutlet(self.info)\n",
    "\n",
    "    def push_sample(self, data):\n",
    "        self.outlet.push_sample(data)\n",
    "\n",
    "    def push_repeated_chunk(self, data, n=1):\n",
    "        #chunk = repeat(data, n).reshape(-1, n).T.tolist()\n",
    "        #self.outlet.push_chunk(chunk)\n",
    "        for k in range(n):\n",
    "            self.outlet.push_sample(data)\n",
    "\n",
    "    def push_chunk(self, data, n=1):\n",
    "        self.outlet.push_chunk(data)"
   ]
  },
  {
   "cell_type": "code",
   "execution_count": 2,
   "id": "90ed531f",
   "metadata": {},
   "outputs": [],
   "source": [
    "sOut = SignalsOutlet(250)"
   ]
  },
  {
   "cell_type": "code",
   "execution_count": 3,
   "id": "239d2cc6",
   "metadata": {},
   "outputs": [],
   "source": [
    "time = 1000\n",
    "fs = 250\n",
    "inc = 1/fs"
   ]
  },
  {
   "cell_type": "code",
   "execution_count": null,
   "id": "4c12d344",
   "metadata": {},
   "outputs": [],
   "source": [
    "import random\n",
    "Aborted = False\n",
    "i = 1\n",
    "while not Aborted:\n",
    "    res = np.random.random_sample(size = 15).tolist()\n",
    "    #res = \n",
    "    res = res + [i,1]\n",
    "    sOut.push_sample(res)\n",
    "    i = i+1"
   ]
  }
 ],
 "metadata": {
  "kernelspec": {
   "display_name": "Python 3 (ipykernel)",
   "language": "python",
   "name": "python3"
  },
  "language_info": {
   "codemirror_mode": {
    "name": "ipython",
    "version": 3
   },
   "file_extension": ".py",
   "mimetype": "text/x-python",
   "name": "python",
   "nbconvert_exporter": "python",
   "pygments_lexer": "ipython3",
   "version": "3.9.7"
  }
 },
 "nbformat": 4,
 "nbformat_minor": 5
}
