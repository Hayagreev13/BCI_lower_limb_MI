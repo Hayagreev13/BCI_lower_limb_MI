{
 "cells": [
  {
   "cell_type": "code",
   "execution_count": 6,
   "id": "85122082",
   "metadata": {},
   "outputs": [],
   "source": [
    "import pickle\n",
    "import numpy as np\n",
    "import pandas as pd\n",
    "from pathlib import Path\n",
    "import os\n",
    "from sklearn.metrics import accuracy_score\n",
    "from sklearn.metrics import confusion_matrix"
   ]
  },
  {
   "cell_type": "code",
   "execution_count": 11,
   "id": "800f2f5f",
   "metadata": {},
   "outputs": [
    {
     "name": "stdout",
     "output_type": "stream",
     "text": [
      "Running for subject X01\n",
      "[0.5512820512820513]\n",
      "Average Accuracy: 0.5512820512820513\n",
      "Running for subject X02\n",
      "[0.717948717948718, 0.5769230769230769, 0.8051948051948052, 0.8589743589743589, 0.7307692307692307, 0.36585365853658536, 0.3275862068965517]\n",
      "Average Accuracy: 0.6261785793204753\n",
      "Running for subject X05\n",
      "[0.5897435897435898, 0.5128205128205128, 0.7435897435897436, 0.6666666666666666, 0.5641025641025641]\n",
      "Average Accuracy: 0.6153846153846153\n",
      "Running for subject X06\n",
      "[0.5897435897435898, 0.5897435897435898, 0.5512820512820513, 0.6282051282051282, 0.48717948717948717, 0.5897435897435898]\n",
      "Average Accuracy: 0.5726495726495727\n",
      "Running for subject X10\n",
      "[0.4358974358974359, 0.5384615384615384, 0.5641025641025641, 0.5256410256410257]\n",
      "Average Accuracy: 0.516025641025641\n",
      "Running for subject X11\n",
      "[0.4025974025974026, 0.5384615384615384, 0.5194805194805194, 0.5064935064935064, 0.6282051282051282]\n",
      "Average Accuracy: 0.5190476190476191\n"
     ]
    }
   ],
   "source": [
    "# F:\\Academics\\M2 CNN\\Semester 2\\BMI Lab Elche\\Project\\Final trials\\Legs\\Closed Loop Trials\\Expdata\\Subjects\\wet\n",
    "subs = ['X01','X02','X05','X06','X10','X11']\n",
    "data = {'X01':{'MI_labels':[],'predictions':[]},'X02':{'MI_labels':[],'predictions':[]},'X05':{'MI_labels':[],'predictions':[]},\n",
    "        'X06':{'MI_labels':[],'predictions':[]},'X10':{'MI_labels':[],'predictions':[]},'X11':{'MI_labels':[],'predictions':[]}}\n",
    "for sub in subs:\n",
    "    acc = []\n",
    "    pre_path = Path(f'./Expdata/Subjects/wet/{sub}/closedloop')\n",
    "    print(f'Running for subject {sub}')\n",
    "    for instance in os.scandir(pre_path):\n",
    "        if instance.path.endswith('.pkl'):\n",
    "            #print(f'Running for {instance.path}...')\n",
    "            a_file = open(instance.path, \"rb\")\n",
    "            data_dict = pickle.load(a_file)\n",
    "            data[sub]['MI_labels'].append(data_dict['MI_labels'])\n",
    "            data[sub]['predictions'].append(data_dict['predictions'])           \n",
    "            acc.append(accuracy_score(data_dict['MI_labels'],data_dict['predictions']))\n",
    "    print(acc)\n",
    "    print('Average Accuracy:', sum(acc)/len(acc))"
   ]
  },
  {
   "cell_type": "code",
   "execution_count": 3,
   "id": "3c5c760b",
   "metadata": {},
   "outputs": [
    {
     "data": {
      "text/plain": [
       "array([[20, 19],\n",
       "       [10, 29]], dtype=int64)"
      ]
     },
     "execution_count": 3,
     "metadata": {},
     "output_type": "execute_result"
    }
   ],
   "source": [
    "confusion_matrix(data_dict['MI_labels'],data_dict['predictions'])"
   ]
  },
  {
   "cell_type": "code",
   "execution_count": 13,
   "id": "8f315887",
   "metadata": {},
   "outputs": [
    {
     "data": {
      "text/plain": [
       "[[0,\n",
       "  0,\n",
       "  0,\n",
       "  0,\n",
       "  0,\n",
       "  0,\n",
       "  0,\n",
       "  0,\n",
       "  0,\n",
       "  0,\n",
       "  0,\n",
       "  0,\n",
       "  0,\n",
       "  0,\n",
       "  0,\n",
       "  0,\n",
       "  0,\n",
       "  0,\n",
       "  0,\n",
       "  0,\n",
       "  0,\n",
       "  0,\n",
       "  0,\n",
       "  0,\n",
       "  0,\n",
       "  0,\n",
       "  1,\n",
       "  1,\n",
       "  1,\n",
       "  1,\n",
       "  1,\n",
       "  1,\n",
       "  1,\n",
       "  1,\n",
       "  1,\n",
       "  1,\n",
       "  1,\n",
       "  1,\n",
       "  1,\n",
       "  1,\n",
       "  1,\n",
       "  1,\n",
       "  1,\n",
       "  1,\n",
       "  1,\n",
       "  1,\n",
       "  1,\n",
       "  1,\n",
       "  1,\n",
       "  1,\n",
       "  1,\n",
       "  1,\n",
       "  0,\n",
       "  0,\n",
       "  0,\n",
       "  0,\n",
       "  0,\n",
       "  0,\n",
       "  0,\n",
       "  0,\n",
       "  0,\n",
       "  0,\n",
       "  0,\n",
       "  0,\n",
       "  0,\n",
       "  1,\n",
       "  1,\n",
       "  1,\n",
       "  1,\n",
       "  1,\n",
       "  1,\n",
       "  1,\n",
       "  1,\n",
       "  1,\n",
       "  1,\n",
       "  1,\n",
       "  1,\n",
       "  1]]"
      ]
     },
     "execution_count": 13,
     "metadata": {},
     "output_type": "execute_result"
    }
   ],
   "source": [
    "data['X01']['MI_labels']"
   ]
  },
  {
   "cell_type": "code",
   "execution_count": 14,
   "id": "1f9d9ecd",
   "metadata": {},
   "outputs": [
    {
     "data": {
      "text/plain": [
       "array([[23, 16],\n",
       "       [19, 20]], dtype=int64)"
      ]
     },
     "execution_count": 14,
     "metadata": {},
     "output_type": "execute_result"
    }
   ],
   "source": [
    "confusion_matrix(data['X01']['MI_labels'][0],data['X01']['predictions'][0])"
   ]
  },
  {
   "cell_type": "code",
   "execution_count": 17,
   "id": "bc10c835",
   "metadata": {},
   "outputs": [
    {
     "data": {
      "text/plain": [
       "<AxesSubplot:>"
      ]
     },
     "execution_count": 17,
     "metadata": {},
     "output_type": "execute_result"
    },
    {
     "data": {
      "image/png": "[encoded data removed]",
      "text/plain": [
       "<Figure size 432x288 with 2 Axes>"
      ]
     },
     "metadata": {
      "needs_background": "light"
     },
     "output_type": "display_data"
    }
   ],
   "source": [
    "import seaborn as sns\n",
    "sns.heatmap(confusion_matrix(data['X01']['MI_labels'][0],data['X01']['predictions'][0]), annot=True)"
   ]
  },
  {
   "cell_type": "code",
   "execution_count": 18,
   "id": "105a3df5",
   "metadata": {},
   "outputs": [
    {
     "data": {
      "text/plain": [
       "<AxesSubplot:>"
      ]
     },
     "execution_count": 18,
     "metadata": {},
     "output_type": "execute_result"
    },
    {
     "data": {
      "image/png": "[encoded data removed]",
      "text/plain": [
       "<Figure size 432x288 with 2 Axes>"
      ]
     },
     "metadata": {
      "needs_background": "light"
     },
     "output_type": "display_data"
    }
   ],
   "source": [
    "sns.heatmap(confusion_matrix(data['X02']['MI_labels'][0],data['X02']['predictions'][0]), annot=True)"
   ]
  },
  {
   "cell_type": "code",
   "execution_count": 19,
   "id": "ce056f33",
   "metadata": {},
   "outputs": [
    {
     "data": {
      "text/plain": [
       "<AxesSubplot:>"
      ]
     },
     "execution_count": 19,
     "metadata": {},
     "output_type": "execute_result"
    },
    {
     "data": {
      "image/png": "[encoded data removed]",
      "text/plain": [
       "<Figure size 432x288 with 2 Axes>"
      ]
     },
     "metadata": {
      "needs_background": "light"
     },
     "output_type": "display_data"
    }
   ],
   "source": [
    "sns.heatmap(confusion_matrix(data['X05']['MI_labels'][0],data['X05']['predictions'][0]), annot=True)"
   ]
  },
  {
   "cell_type": "code",
   "execution_count": 20,
   "id": "003eb150",
   "metadata": {},
   "outputs": [
    {
     "data": {
      "text/plain": [
       "<AxesSubplot:>"
      ]
     },
     "execution_count": 20,
     "metadata": {},
     "output_type": "execute_result"
    },
    {
     "data": {
      "image/png": "[encoded data removed]",
      "text/plain": [
       "<Figure size 432x288 with 2 Axes>"
      ]
     },
     "metadata": {
      "needs_background": "light"
     },
     "output_type": "display_data"
    }
   ],
   "source": [
    "sns.heatmap(confusion_matrix(data['X06']['MI_labels'][0],data['X06']['predictions'][0]), annot=True)"
   ]
  },
  {
   "cell_type": "code",
   "execution_count": 22,
   "id": "f928b768",
   "metadata": {},
   "outputs": [
    {
     "data": {
      "text/plain": [
       "<AxesSubplot:>"
      ]
     },
     "execution_count": 22,
     "metadata": {},
     "output_type": "execute_result"
    },
    {
     "data": {
      "image/png": "[encoded data removed]",
      "text/plain": [
       "<Figure size 432x288 with 2 Axes>"
      ]
     },
     "metadata": {
      "needs_background": "light"
     },
     "output_type": "display_data"
    }
   ],
   "source": [
    "sns.heatmap(confusion_matrix(data['X10']['MI_labels'][0],data['X10']['predictions'][0]), annot=True)"
   ]
  },
  {
   "cell_type": "code",
   "execution_count": 23,
   "id": "6445a7ef",
   "metadata": {},
   "outputs": [
    {
     "data": {
      "text/plain": [
       "<AxesSubplot:>"
      ]
     },
     "execution_count": 23,
     "metadata": {},
     "output_type": "execute_result"
    },
    {
     "data": {
      "image/png": "[encoded data removed]",
      "text/plain": [
       "<Figure size 432x288 with 2 Axes>"
      ]
     },
     "metadata": {
      "needs_background": "light"
     },
     "output_type": "display_data"
    }
   ],
   "source": [
    "sns.heatmap(confusion_matrix(data['X11']['MI_labels'][0],data['X11']['predictions'][0]), annot=True)"
   ]
  },
  {
   "cell_type": "code",
   "execution_count": null,
   "id": "a19a9b78",
   "metadata": {},
   "outputs": [],
   "source": []
  }
 ],
 "metadata": {
  "kernelspec": {
   "display_name": "Python 3 (ipykernel)",
   "language": "python",
   "name": "python3"
  },
  "language_info": {
   "codemirror_mode": {
    "name": "ipython",
    "version": 3
   },
   "file_extension": ".py",
   "mimetype": "text/x-python",
   "name": "python",
   "nbconvert_exporter": "python",
   "pygments_lexer": "ipython3",
   "version": "3.9.7"
  }
 },
 "nbformat": 4,
 "nbformat_minor": 5
}
